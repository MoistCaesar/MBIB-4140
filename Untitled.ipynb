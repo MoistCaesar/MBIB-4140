{
 "cells": [
  {
   "cell_type": "code",
   "execution_count": 6,
   "metadata": {},
   "outputs": [
    {
     "data": {
      "text/plain": [
       "pandas.core.frame.DataFrame"
      ]
     },
     "execution_count": 6,
     "metadata": {},
     "output_type": "execute_result"
    }
   ],
   "source": [
    "import pandas as pd\n",
    "import json\n",
    "\n",
    "# pd.read_csv() henter innholdet fra API-et og legger det i data. \n",
    "# De norske datasettene her er semikolonseparert med komma som desimaltegn.\n",
    "# CSV er ikke UTF-8, så vi må angi parameter encoding for å få æøå riktig. \n",
    "ssbdata = pd.read_csv(\"http://data.ssb.no/api/v0/dataset/85699.csv?lang=no\", sep=';', decimal=',', encoding = \"ISO-8859-1\", )"
   ]
  },
  {
   "cell_type": "code",
   "execution_count": null,
   "metadata": {},
   "outputs": [],
   "source": [
    "# some JSON:\n",
    "nsddata = '{ \"name\":\"John\", \"age\":30, \"city\":\"New York\"}'\n",
    "# parse nsddata:\n",
    "y = json.loads(nsddata)"
   ]
  },
  {
   "cell_type": "code",
   "execution_count": null,
   "metadata": {},
   "outputs": [],
   "source": [
    "# the result is a Python dictionary:\n",
    "print(y[\"age\"])"
   ]
  },
  {
   "cell_type": "code",
   "execution_count": null,
   "metadata": {},
   "outputs": [],
   "source": [
    "# Sjekker at datatypen Pandas dataframe\n",
    "type(ssbdata)"
   ]
  },
  {
   "cell_type": "code",
   "execution_count": 7,
   "metadata": {},
   "outputs": [
    {
     "data": {
      "text/plain": [
       "(101520, 6)"
      ]
     },
     "execution_count": 7,
     "metadata": {},
     "output_type": "execute_result"
    }
   ],
   "source": [
    "# Shape gir antall rader (13) og kolonner (4)\n",
    "ssbdata.shape"
   ]
  },
  {
   "cell_type": "code",
   "execution_count": 8,
   "metadata": {},
   "outputs": [
    {
     "data": {
      "text/html": [
       "<div>\n",
       "<style scoped>\n",
       "    .dataframe tbody tr th:only-of-type {\n",
       "        vertical-align: middle;\n",
       "    }\n",
       "\n",
       "    .dataframe tbody tr th {\n",
       "        vertical-align: top;\n",
       "    }\n",
       "\n",
       "    .dataframe thead th {\n",
       "        text-align: right;\n",
       "    }\n",
       "</style>\n",
       "<table border=\"1\" class=\"dataframe\">\n",
       "  <thead>\n",
       "    <tr style=\"text-align: right;\">\n",
       "      <th></th>\n",
       "      <th>region</th>\n",
       "      <th>kjønn</th>\n",
       "      <th>alder</th>\n",
       "      <th>statistikkvariabel</th>\n",
       "      <th>år</th>\n",
       "      <th>11727: Beregnede tall  for kommuneinndeling 2018, etter region, kjønn, alder, statistikkvariabel og år</th>\n",
       "    </tr>\n",
       "  </thead>\n",
       "  <tbody>\n",
       "    <tr>\n",
       "      <th>0</th>\n",
       "      <td>0101 Halden (-2019)</td>\n",
       "      <td>1 Menn</td>\n",
       "      <td>F311 0 år</td>\n",
       "      <td>Personer</td>\n",
       "      <td>2007</td>\n",
       "      <td>154</td>\n",
       "    </tr>\n",
       "    <tr>\n",
       "      <th>1</th>\n",
       "      <td>0101 Halden (-2019)</td>\n",
       "      <td>1 Menn</td>\n",
       "      <td>F311 0 år</td>\n",
       "      <td>Personer</td>\n",
       "      <td>2008</td>\n",
       "      <td>141</td>\n",
       "    </tr>\n",
       "    <tr>\n",
       "      <th>2</th>\n",
       "      <td>0101 Halden (-2019)</td>\n",
       "      <td>1 Menn</td>\n",
       "      <td>F311 0 år</td>\n",
       "      <td>Personer</td>\n",
       "      <td>2009</td>\n",
       "      <td>159</td>\n",
       "    </tr>\n",
       "    <tr>\n",
       "      <th>3</th>\n",
       "      <td>0101 Halden (-2019)</td>\n",
       "      <td>1 Menn</td>\n",
       "      <td>F311 0 år</td>\n",
       "      <td>Personer</td>\n",
       "      <td>2010</td>\n",
       "      <td>147</td>\n",
       "    </tr>\n",
       "    <tr>\n",
       "      <th>4</th>\n",
       "      <td>0101 Halden (-2019)</td>\n",
       "      <td>1 Menn</td>\n",
       "      <td>F311 0 år</td>\n",
       "      <td>Personer</td>\n",
       "      <td>2011</td>\n",
       "      <td>151</td>\n",
       "    </tr>\n",
       "  </tbody>\n",
       "</table>\n",
       "</div>"
      ],
      "text/plain": [
       "                region   kjønn      alder statistikkvariabel    år  \\\n",
       "0  0101 Halden (-2019)  1 Menn  F311 0 år           Personer  2007   \n",
       "1  0101 Halden (-2019)  1 Menn  F311 0 år           Personer  2008   \n",
       "2  0101 Halden (-2019)  1 Menn  F311 0 år           Personer  2009   \n",
       "3  0101 Halden (-2019)  1 Menn  F311 0 år           Personer  2010   \n",
       "4  0101 Halden (-2019)  1 Menn  F311 0 år           Personer  2011   \n",
       "\n",
       "   11727: Beregnede tall  for kommuneinndeling 2018, etter region, kjønn, alder, statistikkvariabel og år  \n",
       "0                                                154                                                       \n",
       "1                                                141                                                       \n",
       "2                                                159                                                       \n",
       "3                                                147                                                       \n",
       "4                                                151                                                       "
      ]
     },
     "execution_count": 8,
     "metadata": {},
     "output_type": "execute_result"
    }
   ],
   "source": [
    "# Toppen av datasettet\n",
    "ssbdata.head()"
   ]
  },
  {
   "cell_type": "code",
   "execution_count": null,
   "metadata": {},
   "outputs": [],
   "source": []
  }
 ],
 "metadata": {
  "kernelspec": {
   "display_name": "Python 3",
   "language": "python",
   "name": "python3"
  },
  "language_info": {
   "codemirror_mode": {
    "name": "ipython",
    "version": 3
   },
   "file_extension": ".py",
   "mimetype": "text/x-python",
   "name": "python",
   "nbconvert_exporter": "python",
   "pygments_lexer": "ipython3",
   "version": "3.8.3"
  }
 },
 "nbformat": 4,
 "nbformat_minor": 4
}
